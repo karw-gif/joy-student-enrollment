{
 "cells": [
  {
   "cell_type": "code",
   "execution_count": 1,
   "id": "30637755-fb4f-45c5-b911-d385d4d17222",
   "metadata": {},
   "outputs": [
    {
     "name": "stdout",
     "output_type": "stream",
     "text": [
      "Accuracy: 0.60\n",
      "Classification Report:\n",
      "              precision    recall  f1-score   support\n",
      "\n",
      "           0       0.50      0.50      0.50         4\n",
      "           1       0.67      0.80      0.73         5\n",
      "           2       0.00      0.00      0.00         1\n",
      "\n",
      "    accuracy                           0.60        10\n",
      "   macro avg       0.39      0.43      0.41        10\n",
      "weighted avg       0.53      0.60      0.56        10\n",
      "\n"
     ]
    },
    {
     "name": "stderr",
     "output_type": "stream",
     "text": [
      "C:\\Users\\Erick Mwangi\\anaconda3\\Lib\\site-packages\\sklearn\\metrics\\_classification.py:1344: UndefinedMetricWarning: Precision and F-score are ill-defined and being set to 0.0 in labels with no predicted samples. Use `zero_division` parameter to control this behavior.\n",
      "  _warn_prf(average, modifier, msg_start, len(result))\n",
      "C:\\Users\\Erick Mwangi\\anaconda3\\Lib\\site-packages\\sklearn\\metrics\\_classification.py:1344: UndefinedMetricWarning: Precision and F-score are ill-defined and being set to 0.0 in labels with no predicted samples. Use `zero_division` parameter to control this behavior.\n",
      "  _warn_prf(average, modifier, msg_start, len(result))\n",
      "C:\\Users\\Erick Mwangi\\anaconda3\\Lib\\site-packages\\sklearn\\metrics\\_classification.py:1344: UndefinedMetricWarning: Precision and F-score are ill-defined and being set to 0.0 in labels with no predicted samples. Use `zero_division` parameter to control this behavior.\n",
      "  _warn_prf(average, modifier, msg_start, len(result))\n"
     ]
    }
   ],
   "source": [
    "import pandas as pd\n",
    "from sklearn.model_selection import train_test_split\n",
    "from sklearn.ensemble import RandomForestClassifier\n",
    "from sklearn.metrics import classification_report, accuracy_score\n",
    "from sklearn.preprocessing import LabelEncoder\n",
    "\n",
    "df= pd.read_csv( r\"C:\\Users\\Erick Mwangi\\Downloads\\student_enrollment_data.csv\")\n",
    "\n",
    "features = [\n",
    "    \"admission_score\", \"gpa\", \"failed_courses\", \"attendance_rate\", \"age\",\n",
    "    \"gender\", \"ethnicity\", \"financial_aid\", \"parental_education_level\",\n",
    "    \"employment_hours\", \"distance_to_campus_km\", \"course_completion_rate\",\n",
    "    \"core_subject_performance\", \"support_sessions_used\"\n",
    "]\n",
    "target = \"enrollment_status\"\n",
    "\n",
    "label_encoders = {}\n",
    "for column in features:\n",
    "    if data[column].dtype == 'object':\n",
    "        le = LabelEncoder()\n",
    "        data[column] = le.fit_transform(data[column])\n",
    "        label_encoders[column] = le\n",
    "\n",
    "X = df[features]\n",
    "y = df[target]\n",
    "\n",
    "\n",
    "y = LabelEncoder().fit_transform(y)\n",
    "\n",
    "\n",
    "X_train, X_test, y_train, y_test = train_test_split(X, y, test_size=0.2, random_state=42)\n",
    "\n",
    "\n",
    "model = RandomForestClassifier(random_state=42)\n",
    "model.fit(X_train, y_train)\n",
    "\n",
    "\n",
    "y_pred = model.predict(X_test)\n",
    "\n",
    "\n",
    "accuracy = accuracy_score(y_test, y_pred)\n",
    "report = classification_report(y_test, y_pred)\n",
    "\n",
    "\n",
    "print(f\"Accuracy: {accuracy:.2f}\")\n",
    "print(\"Classification Report:\")\n",
    "print(report)\n"
   ]
  },
  {
   "cell_type": "code",
   "execution_count": 4,
   "id": "b95d138d-0fa1-4dc3-9f9e-d19e4b78651b",
   "metadata": {},
   "outputs": [
    {
     "name": "stdout",
     "output_type": "stream",
     "text": [
      "Predicted Enrollment Status: 1\n"
     ]
    }
   ],
   "source": [
    "import numpy as np\n",
    "\n",
    "new_student_data = {\n",
    "    \"admission_score\": 10.0,\n",
    "    \"gpa\": 3.2,\n",
    "    \"failed_courses\": 1,\n",
    "    \"attendance_rate\": 90.5,\n",
    "    \"age\": 21,\n",
    "    \"gender\": \"female\",  # Categorical data\n",
    "    \"ethnicity\": \"Other\",  # Categorical data\n",
    "    \"financial_aid\": \"Yes\",  # Categorical data\n",
    "    \"parental_education_level\": \"High School\",  # Categorical data\n",
    "    \"employment_hours\": 15,\n",
    "    \"distance_to_campus_km\": 12.3,\n",
    "    \"course_completion_rate\": 0.85,\n",
    "    \"core_subject_performance\": 3.1,\n",
    "    \"support_sessions_used\": 2\n",
    "}\n",
    "\n",
    "\n",
    "for column, le in label_encoders.items():\n",
    "    if column in new_student_data:\n",
    "        new_student_data[column] = le.transform([new_student_data[column]])[0]\n",
    "\n",
    "\n",
    "new_student_df = pd.DataFrame([new_student_data])\n",
    "\n",
    "\n",
    "predicted_status = model.predict(new_student_df)\n",
    "\n",
    "\n",
    "print(\"Predicted Enrollment Status:\", predicted_status[0]) \n"
   ]
  },
  {
   "cell_type": "code",
   "execution_count": null,
   "id": "850c8374-8856-4f20-9277-ce837388570f",
   "metadata": {},
   "outputs": [],
   "source": []
  }
 ],
 "metadata": {
  "kernelspec": {
   "display_name": "Python 3 (ipykernel)",
   "language": "python",
   "name": "python3"
  },
  "language_info": {
   "codemirror_mode": {
    "name": "ipython",
    "version": 3
   },
   "file_extension": ".py",
   "mimetype": "text/x-python",
   "name": "python",
   "nbconvert_exporter": "python",
   "pygments_lexer": "ipython3",
   "version": "3.11.7"
  }
 },
 "nbformat": 4,
 "nbformat_minor": 5
}
